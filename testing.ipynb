{
 "cells": [
  {
   "cell_type": "code",
   "execution_count": null,
   "id": "36843925",
   "metadata": {},
   "outputs": [],
   "source": [
    "import string\n",
    "import numpy as np\n",
    "\n",
    "chars = list(string.ascii_letters)\n",
    "labels = []\n",
    "for i in range(3):\n",
    "    random_chars = np.random.choice(chars, size=np.random.randint(low=3, high=10))\n",
    "    labels.append(''.join(random_chars))\n",
    "\n",
    "print(labels)\n",
    "\n"
   ]
  },
  {
   "cell_type": "code",
   "execution_count": null,
   "id": "b51afb3a",
   "metadata": {},
   "outputs": [],
   "source": [
    "chars = list(string.ascii_letters)\n",
    "\n",
    "labels = [''.join(np.random.choice(chars, size=np.random.randint(low=3, high=10))) for _ in range(3)]\n",
    "print(labels)"
   ]
  },
  {
   "cell_type": "code",
   "execution_count": null,
   "id": "76d0ea0f",
   "metadata": {},
   "outputs": [],
   "source": [
    "import numpy as np \n",
    "import math \n",
    "\n",
    "rng = np.random.default_rng(123)\n",
    "pts_per_decade: int = 10\n",
    "low_decades: float = 1.5\n",
    "high_decades: float = 0.5\n",
    "\n",
    "# ----- Sample interpretable parameters shared by grid construction -----\n",
    "# Pick plateau modulus and yield/flow stresses\n",
    "\n",
    "Gp = float(np.exp(rng.normal(np.log(1e4), 10)))         # Pa\n",
    "gamma_c = float(np.exp(rng.normal(np.log(0.03), 0.5)))    # critical strain ~ few %\n",
    "tau_y = float(Gp * gamma_c * np.exp(rng.normal(0.0, 0.20)))\n",
    "kappa = float(np.exp(rng.normal(np.log(2.5), 0.20)))\n",
    "tau_f = float(kappa * tau_y)\n",
    "\n",
    "assert tau_f > tau_y > 0 and Gp > 0\n",
    "\n",
    "# ----- Build stress grid with tau_f pinned as a tick -----\n",
    "assert pts_per_decade >= 6 and low_decades > 0 and high_decades > 0\n",
    "\n",
    "dlog = 1.0 / float(pts_per_decade)                # log10 spacing per point\n",
    "n_low = int(math.ceil(low_decades * pts_per_decade))\n",
    "n_high = int(math.ceil(high_decades * pts_per_decade))\n",
    "exps = np.arange(-n_low, n_high + 1, dtype=float) * dlog\n",
    "stress = tau_f * (10.0 ** exps)"
   ]
  },
  {
   "cell_type": "code",
   "execution_count": null,
   "id": "7b720b14",
   "metadata": {},
   "outputs": [],
   "source": [
    "stress "
   ]
  },
  {
   "cell_type": "code",
   "execution_count": 23,
   "id": "8624c54f",
   "metadata": {},
   "outputs": [
    {
     "name": "stdout",
     "output_type": "stream",
     "text": [
      "67754.42\n",
      "79532.03\n"
     ]
    }
   ],
   "source": [
    "import numpy as np \n",
    "import seaborn as sns\n",
    "\n",
    "# rng = np.random.default_rng(123)\n",
    "Gp1 = float(np.exp(np.random.normal(np.log(1e5), 0.25)))\n",
    "Gp2 = float(np.exp(np.random.normal(np.log(1e5), 0.25)))\n",
    "\n",
    "print(np.round(Gp1, 2))\n",
    "print(np.round(Gp2, 2))"
   ]
  },
  {
   "cell_type": "code",
   "execution_count": 73,
   "id": "2479cf6d",
   "metadata": {},
   "outputs": [
    {
     "name": "stdout",
     "output_type": "stream",
     "text": [
      "4.282932620018434\n",
      "10.761725089109841\n",
      "11.512925464970229\n",
      "100000.0\n",
      "72.45260471500983\n",
      "47179.98755147256\n",
      "83850.24085765409\n"
     ]
    }
   ],
   "source": [
    "x = np.random.normal(5, 0.5)\n",
    "y = np.random.normal(np.log(1e5), 0.5)\n",
    "print(x)\n",
    "print(y)\n",
    "print(np.log(100000))\n",
    "print(1e5)\n",
    "print(np.exp(x))\n",
    "print(np.exp(y))\n",
    "print(np.exp(np.random.normal(np.log(1e5), 0.25)))"
   ]
  },
  {
   "cell_type": "code",
   "execution_count": 43,
   "id": "2a892d83",
   "metadata": {},
   "outputs": [],
   "source": [
    "import numpy as np \n",
    "import math\n",
    "\n",
    "pts_per_decade = 10\n",
    "low_decades = 1.0\n",
    "high_decades = 1.5\n",
    "dlog = 1.0 / float(pts_per_decade)                # log10 spacing per point\n",
    "n_low = int(math.ceil(low_decades * pts_per_decade))\n",
    "n_high = int(math.ceil(high_decades * pts_per_decade))\n",
    "exps = np.arange(-n_low, n_high + 1, dtype=float) * dlog\n",
    "\n",
    "\n",
    "Gp = float(np.exp(np.random.normal(np.log(1e5), 3)))         # Pa\n",
    "gamma_c = float(np.exp(np.random.normal(np.log(0.03), 0.25)))    # critical strain ~ few %\n",
    "tau_y = float(Gp * gamma_c * np.exp(np.random.normal(0.0, 0.20)))\n",
    "kappa = float(np.exp(np.random.normal(np.log(2), 0.20)))\n",
    "tau_f = float(kappa * tau_y)\n",
    "\n",
    "stress = (tau_f / 10) * (10.0 ** exps) "
   ]
  },
  {
   "cell_type": "code",
   "execution_count": 35,
   "id": "825c1901",
   "metadata": {},
   "outputs": [
    {
     "data": {
      "text/plain": [
       "array([-1. , -0.9, -0.8, -0.7, -0.6, -0.5, -0.4, -0.3, -0.2, -0.1,  0. ,\n",
       "        0.1,  0.2,  0.3,  0.4,  0.5,  0.6,  0.7,  0.8,  0.9,  1. ,  1.1,\n",
       "        1.2,  1.3,  1.4,  1.5])"
      ]
     },
     "execution_count": 35,
     "metadata": {},
     "output_type": "execute_result"
    }
   ],
   "source": [
    "exps"
   ]
  },
  {
   "cell_type": "code",
   "execution_count": 44,
   "id": "d291b2d4",
   "metadata": {},
   "outputs": [
    {
     "data": {
      "text/plain": [
       "array([   47.02905029,    59.2060665 ,    74.53602165,    93.83529174,\n",
       "         118.1316333 ,   148.7189151 ,   187.22602143,   235.70359613,\n",
       "         296.73324682,   373.56502494,   470.29050285,   592.06066497,\n",
       "         745.36021645,   938.35291743,  1181.31633299,  1487.18915097,\n",
       "        1872.26021429,  2357.03596127,  2967.33246815,  3735.6502494 ,\n",
       "        4702.90502854,  5920.60664969,  7453.60216453,  9383.52917433,\n",
       "       11813.16332987, 14871.89150965])"
      ]
     },
     "execution_count": 44,
     "metadata": {},
     "output_type": "execute_result"
    }
   ],
   "source": [
    "stress"
   ]
  }
 ],
 "metadata": {
  "kernelspec": {
   "display_name": ".venv (3.12.2)",
   "language": "python",
   "name": "python3"
  },
  "language_info": {
   "codemirror_mode": {
    "name": "ipython",
    "version": 3
   },
   "file_extension": ".py",
   "mimetype": "text/x-python",
   "name": "python",
   "nbconvert_exporter": "python",
   "pygments_lexer": "ipython3",
   "version": "3.12.2"
  }
 },
 "nbformat": 4,
 "nbformat_minor": 5
}
